{
  "nbformat": 4,
  "nbformat_minor": 0,
  "metadata": {
    "colab": {
      "provenance": []
    },
    "kernelspec": {
      "name": "python3",
      "display_name": "Python 3"
    },
    "language_info": {
      "name": "python"
    }
  },
  "cells": [
    {
      "cell_type": "code",
      "execution_count": 4,
      "metadata": {
        "colab": {
          "base_uri": "https://localhost:8080/"
        },
        "id": "CQ1NEZHAUQUh",
        "outputId": "4cfcf3c9-8ffe-419c-e87b-3b7ab7b7f057"
      },
      "outputs": [
        {
          "output_type": "stream",
          "name": "stdout",
          "text": [
            "XGBoost RMSE: 0.8430801167150594\n",
            "Warning: 'articles' key not found or empty in API response.\n",
            "Predicted Price: 2.60, Sentiment: 0.00, Recommendation: HOLD\n"
          ]
        }
      ],
      "source": [
        "import pandas as pd\n",
        "import numpy as np\n",
        "import xgboost as xgb\n",
        "from sklearn.model_selection import train_test_split\n",
        "from sklearn.metrics import mean_squared_error\n",
        "import requests\n",
        "from vaderSentiment.vaderSentiment import SentimentIntensityAnalyzer\n",
        "\n",
        "# Load cleaned dataset\n",
        "df = pd.read_csv(\"Netflix_Cleaned_Stock_Data.csv\")\n",
        "df['Date'] = pd.to_datetime(df['Date'])\n",
        "df.set_index('Date', inplace=True)\n",
        "\n",
        "# Feature Engineering\n",
        "df['SMA_10'] = df['Close'].rolling(window=10).mean()\n",
        "df['SMA_50'] = df['Close'].rolling(window=50).mean()\n",
        "df['RSI'] = 100 - (100 / (1 + df['Close'].pct_change().rolling(14).mean()))\n",
        "df.dropna(inplace=True)\n",
        "\n",
        "# Prepare Data for XGBoost\n",
        "features = ['Open', 'High', 'Low', 'Volume', 'SMA_10', 'SMA_50', 'RSI']\n",
        "target = 'Close'\n",
        "X = df[features]\n",
        "y = df[target]\n",
        "X_train, X_test, y_train, y_test = train_test_split(X, y, test_size=0.2, shuffle=False)\n",
        "\n",
        "# Train XGBoost Model\n",
        "model = xgb.XGBRegressor(objective='reg:squarederror', n_estimators=100)\n",
        "model.fit(X_train, y_train)\n",
        "y_pred = model.predict(X_test)\n",
        "rmse = np.sqrt(mean_squared_error(y_test, y_pred))\n",
        "print(f'XGBoost RMSE: {rmse}')\n",
        "\n",
        "# Sentiment Analysis (Fetching financial news)\n",
        "# Sentiment Analysis (Fetching financial news)\n",
        "def get_sentiment():\n",
        "    url = \"https://newsapi.org/v2/everything?q=Netflix&apiKey=YOUR_NEWSAPI_KEY\"\n",
        "    response = requests.get(url).json()\n",
        "\n",
        "    # Check if 'articles' key exists in response\n",
        "    if 'articles' in response and response['articles']:\n",
        "        analyzer = SentimentIntensityAnalyzer()\n",
        "        scores = [analyzer.polarity_scores(article['title'])['compound'] for article in response['articles']]\n",
        "        return np.mean(scores) if scores else 0\n",
        "    else:\n",
        "        print(\"Warning: 'articles' key not found or empty in API response.\")\n",
        "        # Handle the case when 'articles' key is missing or empty\n",
        "        # You can return a default value (e.g., 0) or raise an exception\n",
        "        return 0\n",
        "\n",
        "sentiment_score = get_sentiment()\n",
        "\n",
        "# Hybrid Decision Model\n",
        "predicted_price = model.predict(X_test.iloc[-1:].values)[0]\n",
        "current_price = df['Close'].iloc[-1]\n",
        "\n",
        "if predicted_price > current_price and sentiment_score > 0.05:\n",
        "    recommendation = \"BUY\"\n",
        "elif predicted_price < current_price and sentiment_score < -0.05:\n",
        "    recommendation = \"SELL\"\n",
        "else:\n",
        "    recommendation = \"HOLD\"\n",
        "\n",
        "print(f\"Predicted Price: {predicted_price:.2f}, Sentiment: {sentiment_score:.2f}, Recommendation: {recommendation}\")\n"
      ]
    },
    {
      "cell_type": "code",
      "source": [
        "!pip install vaderSentiment"
      ],
      "metadata": {
        "colab": {
          "base_uri": "https://localhost:8080/"
        },
        "id": "O2HKvVByUlF7",
        "outputId": "41ebfaf0-397a-402e-8001-394f7651bc7c"
      },
      "execution_count": 2,
      "outputs": [
        {
          "output_type": "stream",
          "name": "stdout",
          "text": [
            "Collecting vaderSentiment\n",
            "  Downloading vaderSentiment-3.3.2-py2.py3-none-any.whl.metadata (572 bytes)\n",
            "Requirement already satisfied: requests in /usr/local/lib/python3.11/dist-packages (from vaderSentiment) (2.32.3)\n",
            "Requirement already satisfied: charset-normalizer<4,>=2 in /usr/local/lib/python3.11/dist-packages (from requests->vaderSentiment) (3.4.1)\n",
            "Requirement already satisfied: idna<4,>=2.5 in /usr/local/lib/python3.11/dist-packages (from requests->vaderSentiment) (3.10)\n",
            "Requirement already satisfied: urllib3<3,>=1.21.1 in /usr/local/lib/python3.11/dist-packages (from requests->vaderSentiment) (2.3.0)\n",
            "Requirement already satisfied: certifi>=2017.4.17 in /usr/local/lib/python3.11/dist-packages (from requests->vaderSentiment) (2025.1.31)\n",
            "Downloading vaderSentiment-3.3.2-py2.py3-none-any.whl (125 kB)\n",
            "\u001b[?25l   \u001b[90m━━━━━━━━━━━━━━━━━━━━━━━━━━━━━━━━━━━━━━━━\u001b[0m \u001b[32m0.0/126.0 kB\u001b[0m \u001b[31m?\u001b[0m eta \u001b[36m-:--:--\u001b[0m\r\u001b[2K   \u001b[90m━━━━━━━━━━━━━━━━━━━━━━━━━━━━━━━━━━━━━━━━\u001b[0m \u001b[32m126.0/126.0 kB\u001b[0m \u001b[31m10.0 MB/s\u001b[0m eta \u001b[36m0:00:00\u001b[0m\n",
            "\u001b[?25hInstalling collected packages: vaderSentiment\n",
            "Successfully installed vaderSentiment-3.3.2\n"
          ]
        }
      ]
    },
    {
      "cell_type": "code",
      "source": [
        "import pandas as pd\n",
        "import numpy as np\n",
        "import xgboost as xgb\n",
        "from sklearn.model_selection import train_test_split\n",
        "from sklearn.metrics import mean_squared_error\n",
        "import requests\n",
        "from vaderSentiment.vaderSentiment import SentimentIntensityAnalyzer\n",
        "\n",
        "# Load cleaned dataset\n",
        "df = pd.read_csv(\"Netflix_Cleaned_Stock_Data.csv\")\n",
        "df['Date'] = pd.to_datetime(df['Date'])\n",
        "df.set_index('Date', inplace=True)\n",
        "\n",
        "# Feature Engineering\n",
        "df['SMA_10'] = df['Close'].rolling(window=10).mean()\n",
        "df['SMA_50'] = df['Close'].rolling(window=50).mean()\n",
        "df['RSI'] = 100 - (100 / (1 + df['Close'].pct_change().rolling(14).mean()))\n",
        "df.dropna(inplace=True)\n",
        "\n",
        "# Prepare Data for XGBoost\n",
        "features = ['Open', 'High', 'Low', 'Volume', 'SMA_10', 'SMA_50', 'RSI']\n",
        "target = 'Close'\n",
        "X = df[features]\n",
        "y = df[target]\n",
        "X_train, X_test, y_train, y_test = train_test_split(X, y, test_size=0.2, shuffle=False)\n",
        "\n",
        "# Train XGBoost Model\n",
        "model = xgb.XGBRegressor(objective='reg:squarederror', n_estimators=100)\n",
        "model.fit(X_train, y_train)\n",
        "y_pred = model.predict(X_test)\n",
        "rmse = np.sqrt(mean_squared_error(y_test, y_pred))\n",
        "print(f'XGBoost RMSE: {rmse}')\n",
        "\n",
        "from datetime import timedelta\n",
        "\n",
        "# Generate Future Dates (Next 30 Days)\n",
        "future_dates = pd.date_range(start=df.index[-1] + timedelta(days=1), periods=30, freq='D')\n",
        "\n",
        "# ... (previous code) ...\n",
        "\n",
        "# Create a DataFrame for future predictions\n",
        "future_df = pd.DataFrame(index=future_dates, columns=features)  # Specify column order\n",
        "\n",
        "# Use the last known values for moving averages and RSI\n",
        "# Assign values in the correct order:\n",
        "for feature in features:\n",
        "    future_df[feature] = df[feature].iloc[-1]\n",
        "\n",
        "# Predict Future Prices\n",
        "future_prices = model.predict(future_df)\n",
        "\n",
        "# ... (rest of the code) ...\n",
        "\n",
        "# Predict Future Prices\n",
        "future_prices = model.predict(future_df)\n",
        "\n",
        "# Add predictions to DataFrame\n",
        "future_df['Predicted_Price'] = future_prices\n",
        "\n",
        "# Display future predictions\n",
        "print(future_df[['Predicted_Price']])\n"
      ],
      "metadata": {
        "colab": {
          "base_uri": "https://localhost:8080/"
        },
        "id": "FxaC-2h6UtvF",
        "outputId": "63da915d-9cf5-47fd-86db-ece05221f9fe"
      },
      "execution_count": 6,
      "outputs": [
        {
          "output_type": "stream",
          "name": "stdout",
          "text": [
            "XGBoost RMSE: 0.8430801167150594\n",
            "            Predicted_Price\n",
            "2002-05-24         2.600847\n",
            "2002-05-25         2.600847\n",
            "2002-05-26         2.600847\n",
            "2002-05-27         2.600847\n",
            "2002-05-28         2.600847\n",
            "2002-05-29         2.600847\n",
            "2002-05-30         2.600847\n",
            "2002-05-31         2.600847\n",
            "2002-06-01         2.600847\n",
            "2002-06-02         2.600847\n",
            "2002-06-03         2.600847\n",
            "2002-06-04         2.600847\n",
            "2002-06-05         2.600847\n",
            "2002-06-06         2.600847\n",
            "2002-06-07         2.600847\n",
            "2002-06-08         2.600847\n",
            "2002-06-09         2.600847\n",
            "2002-06-10         2.600847\n",
            "2002-06-11         2.600847\n",
            "2002-06-12         2.600847\n",
            "2002-06-13         2.600847\n",
            "2002-06-14         2.600847\n",
            "2002-06-15         2.600847\n",
            "2002-06-16         2.600847\n",
            "2002-06-17         2.600847\n",
            "2002-06-18         2.600847\n",
            "2002-06-19         2.600847\n",
            "2002-06-20         2.600847\n",
            "2002-06-21         2.600847\n",
            "2002-06-22         2.600847\n"
          ]
        }
      ]
    },
    {
      "cell_type": "code",
      "source": [
        "import matplotlib.pyplot as plt\n",
        "\n",
        "plt.figure(figsize=(10, 5))\n",
        "plt.plot(df.index[-100:], df['Close'].iloc[-100:], label=\"Historical Prices\", color='blue')\n",
        "plt.plot(future_df.index, future_df['Predicted_Price'], label=\"Predicted Prices\", color='red', linestyle=\"dashed\")\n",
        "plt.xlabel(\"Date\")\n",
        "plt.ylabel(\"Stock Price\")\n",
        "plt.legend()\n",
        "plt.title(\"Netflix Stock Price Prediction (Next 30 Days)\")\n",
        "plt.xticks(rotation=45)\n",
        "plt.show()\n"
      ],
      "metadata": {
        "colab": {
          "base_uri": "https://localhost:8080/",
          "height": 415
        },
        "id": "CM4vsbUDYIS6",
        "outputId": "b1849139-9798-4886-9219-d9c0fa70f5bd"
      },
      "execution_count": 7,
      "outputs": [
        {
          "output_type": "display_data",
          "data": {
            "text/plain": [
              "<Figure size 1000x500 with 1 Axes>"
            ],
            "image/png": "[encoded data removed]"
          },
          "metadata": {}
        }
      ]
    },
    {
      "cell_type": "code",
      "source": [
        "import pandas as pd\n",
        "import numpy as np\n",
        "import xgboost as xgb\n",
        "from sklearn.model_selection import train_test_split\n",
        "from sklearn.metrics import mean_squared_error\n",
        "import requests\n",
        "from vaderSentiment.vaderSentiment import SentimentIntensityAnalyzer\n",
        "\n",
        "# Load cleaned dataset\n",
        "df = pd.read_csv(\"Netflix_Cleaned_Stock_Data.csv\")\n",
        "df['Date'] = pd.to_datetime(df['Date'])\n",
        "df.set_index('Date', inplace=True)\n",
        "\n",
        "# Feature Engineering\n",
        "df['SMA_10'] = df['Close'].rolling(window=10).mean()\n",
        "df['SMA_50'] = df['Close'].rolling(window=50).mean()\n",
        "df['RSI'] = 100 - (100 / (1 + df['Close'].pct_change().rolling(14).mean()))\n",
        "df.dropna(inplace=True)\n",
        "\n",
        "# Prepare Data for XGBoost\n",
        "features = ['Open', 'High', 'Low', 'Volume', 'SMA_10', 'SMA_50', 'RSI']\n",
        "target = 'Close'\n",
        "X = df[features]\n",
        "y = df[target]\n",
        "X_train, X_test, y_train, y_test = train_test_split(X, y, test_size=0.2, shuffle=False)\n",
        "\n",
        "# Train XGBoost Model\n",
        "model = xgb.XGBRegressor(objective='reg:squarederror', n_estimators=100)\n",
        "model.fit(X_train, y_train)\n",
        "y_pred = model.predict(X_test)\n",
        "rmse = np.sqrt(mean_squared_error(y_test, y_pred))\n",
        "print(f'XGBoost RMSE: {rmse}')\n",
        "\n",
        "from datetime import datetime, timedelta\n",
        "\n",
        "# Function to predict stock price for a given date\n",
        "def predict_price_for_date(input_date):\n",
        "    # Convert input_date to datetime object\n",
        "    input_date = datetime.strptime(input_date, \"%Y-%m-%d\")  # Use input_date instead of input_date_str\n",
        "\n",
        "    # Create a DataFrame for future prediction with the correct column order\n",
        "    # Generate future dates starting from input_date\n",
        "    future_dates = pd.date_range(start=input_date, periods=1, freq='D')\n",
        "    future_df = pd.DataFrame(index=future_dates, columns=features)\n",
        "\n",
        "    # Use last known values for moving averages and RSI\n",
        "    # Assign values in the correct order:\n",
        "    for feature in features:\n",
        "        future_df[feature] = df[feature].iloc[-1]\n",
        "\n",
        "    # Predict future stock price\n",
        "    predicted_price = model.predict(future_df)[0]  # Get the prediction for the input date\n",
        "\n",
        "    # Get current price (last available real price)\n",
        "    current_price = df['Close'].iloc[-1]\n",
        "\n",
        "    # Generate recommendation\n",
        "    if predicted_price > current_price * 1.02:  # If price increases by 2%\n",
        "        recommendation = \"BUY\"\n",
        "    elif predicted_price < current_price * 0.98:  # If price decreases by 2%\n",
        "        recommendation = \"SELL\"\n",
        "    else:\n",
        "        recommendation = \"HOLD\"\n",
        "\n",
        "    print(f\"📅 Predicted Price for {input_date.date()}: ${predicted_price:.2f}\")\n",
        "    print(f\"📈 Current Price: ${current_price:.2f}\")\n",
        "    print(f\"🔍 Recommendation: {recommendation}\")\n",
        "\n",
        "# 📌 Get user input for date\n",
        "user_date = input(\"Enter a future date (YYYY-MM-DD): \")\n",
        "predict_price_for_date(user_date)\n"
      ],
      "metadata": {
        "colab": {
          "base_uri": "https://localhost:8080/"
        },
        "id": "bvQE_yD4Y5j1",
        "outputId": "464b11f3-1c78-4962-f3f8-20a5e2e80bb2"
      },
      "execution_count": 12,
      "outputs": [
        {
          "output_type": "stream",
          "name": "stdout",
          "text": [
            "XGBoost RMSE: 0.8430801167150594\n",
            "Enter a future date (YYYY-MM-DD): 2030-12-30\n",
            "📅 Predicted Price for 2030-12-30: $2.60\n",
            "📈 Current Price: $1.20\n",
            "🔍 Recommendation: BUY\n"
          ]
        }
      ]
    },
    {
      "cell_type": "code",
      "source": [
        "import matplotlib.pyplot as plt\n",
        "from datetime import datetime, timedelta\n",
        "\n",
        "# Function to predict stock price for a given date\n",
        "def predict_price_for_date(input_date):\n",
        "    input_date = pd.to_datetime(input_date)\n",
        "\n",
        "    # Generate the required number of future dates\n",
        "    last_date = df.index[-1]\n",
        "    if input_date <= last_date:\n",
        "        print(\"Please enter a future date!\")\n",
        "        return\n",
        "\n",
        "    future_dates = pd.date_range(start=last_date + timedelta(days=1), end=input_date, freq='D')\n",
        "\n",
        "    if len(future_dates) == 0:\n",
        "        print(\"Invalid date range!\")\n",
        "        return\n",
        "\n",
        "    # Create a DataFrame for future prediction with the correct column order\n",
        "    future_df = pd.DataFrame(index=future_dates, columns=features)  # Specify column order\n",
        "\n",
        "    # Use last known values for moving averages and RSI\n",
        "    # Assign values in the correct order:\n",
        "    for feature in features:\n",
        "        future_df[feature] = df[feature].iloc[-1]\n",
        "\n",
        "    # Predict future stock price\n",
        "    predicted_prices = model.predict(future_df)\n",
        "    future_df['Predicted_Price'] = predicted_prices\n",
        "\n",
        "    # Get current price (last available real price)\n",
        "    current_price = df['Close'].iloc[-1]\n",
        "    predicted_price = future_df['Predicted_Price'].iloc[-1]\n",
        "\n",
        "    # Generate recommendation\n",
        "    if predicted_price > current_price * 1.02:\n",
        "        recommendation = \"BUY\"\n",
        "    elif predicted_price < current_price * 0.98:\n",
        "        recommendation = \"SELL\"\n",
        "    else:\n",
        "        recommendation = \"HOLD\"\n",
        "\n",
        "    print(f\"📅 Predicted Price for {input_date.date()}: ${predicted_price:.2f}\")\n",
        "    print(f\"📈 Current Price: ${current_price:.2f}\")\n",
        "    print(f\"🔍 Recommendation: {recommendation}\")\n",
        "\n",
        "    # Plot historical and future predictions\n",
        "    plt.figure(figsize=(10, 5))\n",
        "    plt.plot(df.index[-100:], df['Close'].iloc[-100:], label=\"Historical Prices\", color='blue')\n",
        "    plt.plot(future_df.index, future_df['Predicted_Price'], label=\"Predicted Prices\", color='red', linestyle=\"dashed\")\n",
        "    plt.axhline(current_price, color='green', linestyle=\"dotted\", label=\"Current Price\")\n",
        "    plt.xlabel(\"Date\")\n",
        "    plt.ylabel(\"Stock Price\")\n",
        "    plt.legend()\n",
        "    plt.title(\"Netflix Stock Price Prediction\")\n",
        "    plt.xticks(rotation=45)\n",
        "    plt.show()\n",
        "\n",
        "# Get user input for date\n",
        "user_date = input(\"Enter a future date (YYYY-MM-DD): \")\n",
        "predict_price_for_date(user_date)"
      ],
      "metadata": {
        "colab": {
          "base_uri": "https://localhost:8080/",
          "height": 475
        },
        "id": "PSdaYc0Vcd5J",
        "outputId": "c04648ff-15a3-4b92-f3f9-72145cde9572"
      },
      "execution_count": 15,
      "outputs": [
        {
          "output_type": "stream",
          "name": "stdout",
          "text": [
            "Enter a future date (YYYY-MM-DD): 2025-03-23\n",
            "📅 Predicted Price for 2025-03-23: $2.60\n",
            "📈 Current Price: $1.20\n",
            "🔍 Recommendation: BUY\n"
          ]
        },
        {
          "output_type": "display_data",
          "data": {
            "text/plain": [
              "<Figure size 1000x500 with 1 Axes>"
            ],
            "image/png": "[encoded data removed]"
          },
          "metadata": {}
        }
      ]
    },
    {
      "cell_type": "code",
      "source": [
        "!pip install streamlit\n",
        "\n"
      ],
      "metadata": {
        "colab": {
          "base_uri": "https://localhost:8080/"
        },
        "id": "eeg79lJlcpnc",
        "outputId": "3c149fa9-dd9d-4bcd-f9af-12e552c624b3"
      },
      "execution_count": 17,
      "outputs": [
        {
          "output_type": "stream",
          "name": "stdout",
          "text": [
            "Collecting streamlit\n",
            "  Downloading streamlit-1.43.2-py2.py3-none-any.whl.metadata (8.9 kB)\n",
            "Requirement already satisfied: altair<6,>=4.0 in /usr/local/lib/python3.11/dist-packages (from streamlit) (5.5.0)\n",
            "Requirement already satisfied: blinker<2,>=1.0.0 in /usr/local/lib/python3.11/dist-packages (from streamlit) (1.9.0)\n",
            "Requirement already satisfied: cachetools<6,>=4.0 in /usr/local/lib/python3.11/dist-packages (from streamlit) (5.5.2)\n",
            "Requirement already satisfied: click<9,>=7.0 in /usr/local/lib/python3.11/dist-packages (from streamlit) (8.1.8)\n",
            "Requirement already satisfied: numpy<3,>=1.23 in /usr/local/lib/python3.11/dist-packages (from streamlit) (2.0.2)\n",
            "Requirement already satisfied: packaging<25,>=20 in /usr/local/lib/python3.11/dist-packages (from streamlit) (24.2)\n",
            "Requirement already satisfied: pandas<3,>=1.4.0 in /usr/local/lib/python3.11/dist-packages (from streamlit) (2.2.2)\n",
            "Requirement already satisfied: pillow<12,>=7.1.0 in /usr/local/lib/python3.11/dist-packages (from streamlit) (11.1.0)\n",
            "Requirement already satisfied: protobuf<6,>=3.20 in /usr/local/lib/python3.11/dist-packages (from streamlit) (5.29.4)\n",
            "Requirement already satisfied: pyarrow>=7.0 in /usr/local/lib/python3.11/dist-packages (from streamlit) (18.1.0)\n",
            "Requirement already satisfied: requests<3,>=2.27 in /usr/local/lib/python3.11/dist-packages (from streamlit) (2.32.3)\n",
            "Requirement already satisfied: tenacity<10,>=8.1.0 in /usr/local/lib/python3.11/dist-packages (from streamlit) (9.0.0)\n",
            "Requirement already satisfied: toml<2,>=0.10.1 in /usr/local/lib/python3.11/dist-packages (from streamlit) (0.10.2)\n",
            "Requirement already satisfied: typing-extensions<5,>=4.4.0 in /usr/local/lib/python3.11/dist-packages (from streamlit) (4.12.2)\n",
            "Collecting watchdog<7,>=2.1.5 (from streamlit)\n",
            "  Downloading watchdog-6.0.0-py3-none-manylinux2014_x86_64.whl.metadata (44 kB)\n",
            "\u001b[2K     \u001b[90m━━━━━━━━━━━━━━━━━━━━━━━━━━━━━━━━━━━━━━━━\u001b[0m \u001b[32m44.3/44.3 kB\u001b[0m \u001b[31m3.0 MB/s\u001b[0m eta \u001b[36m0:00:00\u001b[0m\n",
            "\u001b[?25hRequirement already satisfied: gitpython!=3.1.19,<4,>=3.0.7 in /usr/local/lib/python3.11/dist-packages (from streamlit) (3.1.44)\n",
            "Collecting pydeck<1,>=0.8.0b4 (from streamlit)\n",
            "  Downloading pydeck-0.9.1-py2.py3-none-any.whl.metadata (4.1 kB)\n",
            "Requirement already satisfied: tornado<7,>=6.0.3 in /usr/local/lib/python3.11/dist-packages (from streamlit) (6.4.2)\n",
            "Requirement already satisfied: jinja2 in /usr/local/lib/python3.11/dist-packages (from altair<6,>=4.0->streamlit) (3.1.6)\n",
            "Requirement already satisfied: jsonschema>=3.0 in /usr/local/lib/python3.11/dist-packages (from altair<6,>=4.0->streamlit) (4.23.0)\n",
            "Requirement already satisfied: narwhals>=1.14.2 in /usr/local/lib/python3.11/dist-packages (from altair<6,>=4.0->streamlit) (1.31.0)\n",
            "Requirement already satisfied: gitdb<5,>=4.0.1 in /usr/local/lib/python3.11/dist-packages (from gitpython!=3.1.19,<4,>=3.0.7->streamlit) (4.0.12)\n",
            "Requirement already satisfied: python-dateutil>=2.8.2 in /usr/local/lib/python3.11/dist-packages (from pandas<3,>=1.4.0->streamlit) (2.8.2)\n",
            "Requirement already satisfied: pytz>=2020.1 in /usr/local/lib/python3.11/dist-packages (from pandas<3,>=1.4.0->streamlit) (2025.1)\n",
            "Requirement already satisfied: tzdata>=2022.7 in /usr/local/lib/python3.11/dist-packages (from pandas<3,>=1.4.0->streamlit) (2025.1)\n",
            "Requirement already satisfied: charset-normalizer<4,>=2 in /usr/local/lib/python3.11/dist-packages (from requests<3,>=2.27->streamlit) (3.4.1)\n",
            "Requirement already satisfied: idna<4,>=2.5 in /usr/local/lib/python3.11/dist-packages (from requests<3,>=2.27->streamlit) (3.10)\n",
            "Requirement already satisfied: urllib3<3,>=1.21.1 in /usr/local/lib/python3.11/dist-packages (from requests<3,>=2.27->streamlit) (2.3.0)\n",
            "Requirement already satisfied: certifi>=2017.4.17 in /usr/local/lib/python3.11/dist-packages (from requests<3,>=2.27->streamlit) (2025.1.31)\n",
            "Requirement already satisfied: smmap<6,>=3.0.1 in /usr/local/lib/python3.11/dist-packages (from gitdb<5,>=4.0.1->gitpython!=3.1.19,<4,>=3.0.7->streamlit) (5.0.2)\n",
            "Requirement already satisfied: MarkupSafe>=2.0 in /usr/local/lib/python3.11/dist-packages (from jinja2->altair<6,>=4.0->streamlit) (3.0.2)\n",
            "Requirement already satisfied: attrs>=22.2.0 in /usr/local/lib/python3.11/dist-packages (from jsonschema>=3.0->altair<6,>=4.0->streamlit) (25.3.0)\n",
            "Requirement already satisfied: jsonschema-specifications>=2023.03.6 in /usr/local/lib/python3.11/dist-packages (from jsonschema>=3.0->altair<6,>=4.0->streamlit) (2024.10.1)\n",
            "Requirement already satisfied: referencing>=0.28.4 in /usr/local/lib/python3.11/dist-packages (from jsonschema>=3.0->altair<6,>=4.0->streamlit) (0.36.2)\n",
            "Requirement already satisfied: rpds-py>=0.7.1 in /usr/local/lib/python3.11/dist-packages (from jsonschema>=3.0->altair<6,>=4.0->streamlit) (0.23.1)\n",
            "Requirement already satisfied: six>=1.5 in /usr/local/lib/python3.11/dist-packages (from python-dateutil>=2.8.2->pandas<3,>=1.4.0->streamlit) (1.17.0)\n",
            "Downloading streamlit-1.43.2-py2.py3-none-any.whl (9.7 MB)\n",
            "\u001b[2K   \u001b[90m━━━━━━━━━━━━━━━━━━━━━━━━━━━━━━━━━━━━━━━━\u001b[0m \u001b[32m9.7/9.7 MB\u001b[0m \u001b[31m71.6 MB/s\u001b[0m eta \u001b[36m0:00:00\u001b[0m\n",
            "\u001b[?25hDownloading pydeck-0.9.1-py2.py3-none-any.whl (6.9 MB)\n",
            "\u001b[2K   \u001b[90m━━━━━━━━━━━━━━━━━━━━━━━━━━━━━━━━━━━━━━━━\u001b[0m \u001b[32m6.9/6.9 MB\u001b[0m \u001b[31m68.8 MB/s\u001b[0m eta \u001b[36m0:00:00\u001b[0m\n",
            "\u001b[?25hDownloading watchdog-6.0.0-py3-none-manylinux2014_x86_64.whl (79 kB)\n",
            "\u001b[2K   \u001b[90m━━━━━━━━━━━━━━━━━━━━━━━━━━━━━━━━━━━━━━━━\u001b[0m \u001b[32m79.1/79.1 kB\u001b[0m \u001b[31m7.0 MB/s\u001b[0m eta \u001b[36m0:00:00\u001b[0m\n",
            "\u001b[?25hInstalling collected packages: watchdog, pydeck, streamlit\n",
            "Successfully installed pydeck-0.9.1 streamlit-1.43.2 watchdog-6.0.0\n"
          ]
        }
      ]
    },
    {
      "cell_type": "code",
      "source": [
        "import streamlit as st\n",
        "import pandas as pd\n",
        "import xgboost as xgb\n",
        "import matplotlib.pyplot as plt\n",
        "from datetime import datetime, timedelta\n",
        "\n",
        "# Load dataset\n",
        "df = pd.read_csv(\"Netflix_Cleaned_Stock_Data.csv\")\n",
        "df['Date'] = pd.to_datetime(df['Date'])\n",
        "df.set_index('Date', inplace=True)\n",
        "\n",
        "# Feature Engineering (Moved inside Streamlit app)\n",
        "df['SMA_10'] = df['Close'].rolling(window=10).mean()\n",
        "df['SMA_50'] = df['Close'].rolling(window=50).mean()\n",
        "df['RSI'] = 100 - (100 / (1 + df['Close'].pct_change().rolling(14).mean()))\n",
        "df.dropna(inplace=True)\n",
        "\n",
        "# Train XGBoost Model\n",
        "X = df[['Open', 'High', 'Low', 'Volume', 'SMA_10', 'SMA_50', 'RSI']]\n",
        "y = df['Close']\n",
        "model = xgb.XGBRegressor(objective='reg:squarederror', n_estimators=100)\n",
        "model.fit(X, y)\n",
        "\n",
        "# Streamlit UI\n",
        "st.title(\"📈 Netflix Stock Price Prediction\")\n",
        "\n",
        "# User input for date\n",
        "user_date = st.date_input(\"Enter a future date\", min_value=datetime.today() + timedelta(days=1))\n",
        "\n",
        "if st.button(\"Predict Stock Price\"):\n",
        "    # Generate future dates\n",
        "    input_date = pd.to_datetime(user_date)\n",
        "    future_dates = pd.date_range(start=df.index[-1] + timedelta(days=1), end=input_date, freq='D')\n",
        "\n",
        "    # Create DataFrame for prediction\n",
        "    future_df = pd.DataFrame(index=future_dates)\n",
        "    future_df['SMA_10'] = df['SMA_10'].iloc[-1]\n",
        "    future_df['SMA_50'] = df['SMA_50'].iloc[-1]\n",
        "    future_df['RSI'] = df['RSI'].iloc[-1]\n",
        "    future_df['Open'] = df['Open'].iloc[-1]\n",
        "    future_df['High'] = df['High'].iloc[-1]\n",
        "    future_df['Low'] = df['Low'].iloc[-1]\n",
        "    future_df['Volume'] = df['Volume'].iloc[-1]\n",
        "\n",
        "    # Predict future prices\n",
        "    future_df['Predicted_Price'] = model.predict(future_df)\n",
        "    predicted_price = future_df['Predicted_Price'].iloc[-1]\n",
        "    current_price = df['Close'].iloc[-1]\n",
        "\n",
        "    # Recommendation\n",
        "    if predicted_price > current_price * 1.02:\n",
        "        recommendation = \"BUY\"\n",
        "    elif predicted_price < current_price * 0.98:\n",
        "        recommendation = \"SELL\"\n",
        "    else:\n",
        "        recommendation = \"HOLD\"\n",
        "\n",
        "    # Show Prediction & Recommendation\n",
        "    st.success(f\"📅 Predicted Price for {user_date}: **${predicted_price:.2f}**\")\n",
        "    st.info(f\"📈 Current Price: **${current_price:.2f}**\")\n",
        "    st.warning(f\"🔍 Recommendation: **{recommendation}**\")\n",
        "\n",
        "    # Plot Graph\n",
        "    fig, ax = plt.subplots(figsize=(10, 5))\n",
        "    ax.plot(df.index[-100:], df['Close'].iloc[-100:], label=\"Historical Prices\", color='blue')\n",
        "    ax.plot(future_df.index, future_df['Predicted_Price'], label=\"Predicted Prices\", color='red', linestyle=\"dashed\")\n",
        "    ax.axhline(current_price, color='green', linestyle=\"dotted\", label=\"Current Price\")\n",
        "    ax.set_xlabel(\"Date\")\n",
        "    ax.set_ylabel(\"Stock Price\")\n",
        "    ax.legend()\n",
        "    ax.set_title(\"Netflix Stock Price Prediction\")\n",
        "    st.pyplot(fig)\n"
      ],
      "metadata": {
        "colab": {
          "base_uri": "https://localhost:8080/"
        },
        "id": "J3tG8NledRpk",
        "outputId": "82ba7e15-795f-4af0-d526-e396b91a5523"
      },
      "execution_count": 19,
      "outputs": [
        {
          "output_type": "stream",
          "name": "stderr",
          "text": [
            "2025-03-25 04:04:08.615 WARNING streamlit.runtime.scriptrunner_utils.script_run_context: Thread 'MainThread': missing ScriptRunContext! This warning can be ignored when running in bare mode.\n",
            "2025-03-25 04:04:08.689 \n",
            "  \u001b[33m\u001b[1mWarning:\u001b[0m to view this Streamlit app on a browser, run it with the following\n",
            "  command:\n",
            "\n",
            "    streamlit run /usr/local/lib/python3.11/dist-packages/colab_kernel_launcher.py [ARGUMENTS]\n",
            "2025-03-25 04:04:08.690 Thread 'MainThread': missing ScriptRunContext! This warning can be ignored when running in bare mode.\n",
            "2025-03-25 04:04:08.693 Thread 'MainThread': missing ScriptRunContext! This warning can be ignored when running in bare mode.\n",
            "2025-03-25 04:04:08.694 Thread 'MainThread': missing ScriptRunContext! This warning can be ignored when running in bare mode.\n",
            "2025-03-25 04:04:08.696 Thread 'MainThread': missing ScriptRunContext! This warning can be ignored when running in bare mode.\n",
            "2025-03-25 04:04:08.697 Thread 'MainThread': missing ScriptRunContext! This warning can be ignored when running in bare mode.\n",
            "2025-03-25 04:04:08.698 Session state does not function when running a script without `streamlit run`\n",
            "2025-03-25 04:04:08.700 Thread 'MainThread': missing ScriptRunContext! This warning can be ignored when running in bare mode.\n",
            "2025-03-25 04:04:08.701 Thread 'MainThread': missing ScriptRunContext! This warning can be ignored when running in bare mode.\n",
            "2025-03-25 04:04:08.703 Thread 'MainThread': missing ScriptRunContext! This warning can be ignored when running in bare mode.\n",
            "2025-03-25 04:04:08.704 Thread 'MainThread': missing ScriptRunContext! This warning can be ignored when running in bare mode.\n",
            "2025-03-25 04:04:08.705 Thread 'MainThread': missing ScriptRunContext! This warning can be ignored when running in bare mode.\n",
            "2025-03-25 04:04:08.706 Thread 'MainThread': missing ScriptRunContext! This warning can be ignored when running in bare mode.\n",
            "2025-03-25 04:04:08.706 Thread 'MainThread': missing ScriptRunContext! This warning can be ignored when running in bare mode.\n"
          ]
        }
      ]
    },
    {
      "cell_type": "code",
      "source": [
        "!streamlit run app.py"
      ],
      "metadata": {
        "colab": {
          "base_uri": "https://localhost:8080/"
        },
        "id": "ok_IKtg-dsDX",
        "outputId": "0ff8aa2a-0b46-4790-fb99-d24c890b5122"
      },
      "execution_count": 22,
      "outputs": [
        {
          "output_type": "stream",
          "name": "stdout",
          "text": [
            "Usage: streamlit run [OPTIONS] TARGET [ARGS]...\n",
            "Try 'streamlit run --help' for help.\n",
            "\n",
            "Error: Invalid value: File does not exist: app.py\n"
          ]
        }
      ]
    },
    {
      "cell_type": "code",
      "source": [
        "!ls\n"
      ],
      "metadata": {
        "colab": {
          "base_uri": "https://localhost:8080/"
        },
        "id": "41rM-QzqeTAZ",
        "outputId": "f8fee66f-ea56-4141-dd8c-2d68adc07b1f"
      },
      "execution_count": 23,
      "outputs": [
        {
          "output_type": "stream",
          "name": "stdout",
          "text": [
            "Netflix_Cleaned_Stock_Data.csv\tsample_data\n"
          ]
        }
      ]
    },
    {
      "cell_type": "code",
      "source": [
        "!dir"
      ],
      "metadata": {
        "colab": {
          "base_uri": "https://localhost:8080/"
        },
        "id": "LFFiX_ypfb4a",
        "outputId": "26bd2528-68ab-4a35-c5d0-8fbf3fe64989"
      },
      "execution_count": 25,
      "outputs": [
        {
          "output_type": "stream",
          "name": "stdout",
          "text": [
            "Netflix_Cleaned_Stock_Data.csv\tsample_data\n"
          ]
        }
      ]
    },
    {
      "cell_type": "code",
      "source": [
        "%%writefile app.py\n",
        "import streamlit as st\n",
        "import pandas as pd\n",
        "import numpy as np\n",
        "import joblib\n",
        "\n",
        "# Load the trained model\n",
        "model = joblib.load(\"netflix_stock_model.pkl\")  # Ensure you have the model file uploaded\n",
        "\n",
        "st.title(\"📈 Netflix Stock Price Prediction\")\n",
        "st.write(\"Enter a future date to predict the stock price!\")\n",
        "\n",
        "# Date input\n",
        "date = st.date_input(\"Select a date\")\n",
        "\n",
        "# Convert date to features (adjust based on your model requirements)\n",
        "date_numeric = np.array([(date.year * 365) + (date.month * 30) + date.day]).reshape(-1, 1)\n",
        "\n",
        "if st.button(\"Predict\"):\n",
        "    prediction = model.predict(date_numeric)\n",
        "    st.success(f\"Predicted Stock Price: ${prediction[0]:.2f}\")\n"
      ],
      "metadata": {
        "colab": {
          "base_uri": "https://localhost:8080/"
        },
        "id": "PrRPUa0UfezD",
        "outputId": "9302007a-44e7-40d3-efa4-0c10439b7ff1"
      },
      "execution_count": 26,
      "outputs": [
        {
          "output_type": "stream",
          "name": "stdout",
          "text": [
            "Writing app.py\n"
          ]
        }
      ]
    },
    {
      "cell_type": "code",
      "source": [
        "!pip install streamlit pyngrok joblib\n",
        "\n"
      ],
      "metadata": {
        "colab": {
          "base_uri": "https://localhost:8080/"
        },
        "id": "XU5Wp5V4iFqj",
        "outputId": "697cbf03-a3bb-4e90-b953-1a2a02deecc2"
      },
      "execution_count": 28,
      "outputs": [
        {
          "output_type": "stream",
          "name": "stdout",
          "text": [
            "Requirement already satisfied: streamlit in /usr/local/lib/python3.11/dist-packages (1.43.2)\n",
            "Requirement already satisfied: pyngrok in /usr/local/lib/python3.11/dist-packages (7.2.3)\n",
            "Requirement already satisfied: joblib in /usr/local/lib/python3.11/dist-packages (1.4.2)\n",
            "Requirement already satisfied: altair<6,>=4.0 in /usr/local/lib/python3.11/dist-packages (from streamlit) (5.5.0)\n",
            "Requirement already satisfied: blinker<2,>=1.0.0 in /usr/local/lib/python3.11/dist-packages (from streamlit) (1.9.0)\n",
            "Requirement already satisfied: cachetools<6,>=4.0 in /usr/local/lib/python3.11/dist-packages (from streamlit) (5.5.2)\n",
            "Requirement already satisfied: click<9,>=7.0 in /usr/local/lib/python3.11/dist-packages (from streamlit) (8.1.8)\n",
            "Requirement already satisfied: numpy<3,>=1.23 in /usr/local/lib/python3.11/dist-packages (from streamlit) (2.0.2)\n",
            "Requirement already satisfied: packaging<25,>=20 in /usr/local/lib/python3.11/dist-packages (from streamlit) (24.2)\n",
            "Requirement already satisfied: pandas<3,>=1.4.0 in /usr/local/lib/python3.11/dist-packages (from streamlit) (2.2.2)\n",
            "Requirement already satisfied: pillow<12,>=7.1.0 in /usr/local/lib/python3.11/dist-packages (from streamlit) (11.1.0)\n",
            "Requirement already satisfied: protobuf<6,>=3.20 in /usr/local/lib/python3.11/dist-packages (from streamlit) (5.29.4)\n",
            "Requirement already satisfied: pyarrow>=7.0 in /usr/local/lib/python3.11/dist-packages (from streamlit) (18.1.0)\n",
            "Requirement already satisfied: requests<3,>=2.27 in /usr/local/lib/python3.11/dist-packages (from streamlit) (2.32.3)\n",
            "Requirement already satisfied: tenacity<10,>=8.1.0 in /usr/local/lib/python3.11/dist-packages (from streamlit) (9.0.0)\n",
            "Requirement already satisfied: toml<2,>=0.10.1 in /usr/local/lib/python3.11/dist-packages (from streamlit) (0.10.2)\n",
            "Requirement already satisfied: typing-extensions<5,>=4.4.0 in /usr/local/lib/python3.11/dist-packages (from streamlit) (4.12.2)\n",
            "Requirement already satisfied: watchdog<7,>=2.1.5 in /usr/local/lib/python3.11/dist-packages (from streamlit) (6.0.0)\n",
            "Requirement already satisfied: gitpython!=3.1.19,<4,>=3.0.7 in /usr/local/lib/python3.11/dist-packages (from streamlit) (3.1.44)\n",
            "Requirement already satisfied: pydeck<1,>=0.8.0b4 in /usr/local/lib/python3.11/dist-packages (from streamlit) (0.9.1)\n",
            "Requirement already satisfied: tornado<7,>=6.0.3 in /usr/local/lib/python3.11/dist-packages (from streamlit) (6.4.2)\n",
            "Requirement already satisfied: PyYAML>=5.1 in /usr/local/lib/python3.11/dist-packages (from pyngrok) (6.0.2)\n",
            "Requirement already satisfied: jinja2 in /usr/local/lib/python3.11/dist-packages (from altair<6,>=4.0->streamlit) (3.1.6)\n",
            "Requirement already satisfied: jsonschema>=3.0 in /usr/local/lib/python3.11/dist-packages (from altair<6,>=4.0->streamlit) (4.23.0)\n",
            "Requirement already satisfied: narwhals>=1.14.2 in /usr/local/lib/python3.11/dist-packages (from altair<6,>=4.0->streamlit) (1.31.0)\n",
            "Requirement already satisfied: gitdb<5,>=4.0.1 in /usr/local/lib/python3.11/dist-packages (from gitpython!=3.1.19,<4,>=3.0.7->streamlit) (4.0.12)\n",
            "Requirement already satisfied: python-dateutil>=2.8.2 in /usr/local/lib/python3.11/dist-packages (from pandas<3,>=1.4.0->streamlit) (2.8.2)\n",
            "Requirement already satisfied: pytz>=2020.1 in /usr/local/lib/python3.11/dist-packages (from pandas<3,>=1.4.0->streamlit) (2025.1)\n",
            "Requirement already satisfied: tzdata>=2022.7 in /usr/local/lib/python3.11/dist-packages (from pandas<3,>=1.4.0->streamlit) (2025.1)\n",
            "Requirement already satisfied: charset-normalizer<4,>=2 in /usr/local/lib/python3.11/dist-packages (from requests<3,>=2.27->streamlit) (3.4.1)\n",
            "Requirement already satisfied: idna<4,>=2.5 in /usr/local/lib/python3.11/dist-packages (from requests<3,>=2.27->streamlit) (3.10)\n",
            "Requirement already satisfied: urllib3<3,>=1.21.1 in /usr/local/lib/python3.11/dist-packages (from requests<3,>=2.27->streamlit) (2.3.0)\n",
            "Requirement already satisfied: certifi>=2017.4.17 in /usr/local/lib/python3.11/dist-packages (from requests<3,>=2.27->streamlit) (2025.1.31)\n",
            "Requirement already satisfied: smmap<6,>=3.0.1 in /usr/local/lib/python3.11/dist-packages (from gitdb<5,>=4.0.1->gitpython!=3.1.19,<4,>=3.0.7->streamlit) (5.0.2)\n",
            "Requirement already satisfied: MarkupSafe>=2.0 in /usr/local/lib/python3.11/dist-packages (from jinja2->altair<6,>=4.0->streamlit) (3.0.2)\n",
            "Requirement already satisfied: attrs>=22.2.0 in /usr/local/lib/python3.11/dist-packages (from jsonschema>=3.0->altair<6,>=4.0->streamlit) (25.3.0)\n",
            "Requirement already satisfied: jsonschema-specifications>=2023.03.6 in /usr/local/lib/python3.11/dist-packages (from jsonschema>=3.0->altair<6,>=4.0->streamlit) (2024.10.1)\n",
            "Requirement already satisfied: referencing>=0.28.4 in /usr/local/lib/python3.11/dist-packages (from jsonschema>=3.0->altair<6,>=4.0->streamlit) (0.36.2)\n",
            "Requirement already satisfied: rpds-py>=0.7.1 in /usr/local/lib/python3.11/dist-packages (from jsonschema>=3.0->altair<6,>=4.0->streamlit) (0.23.1)\n",
            "Requirement already satisfied: six>=1.5 in /usr/local/lib/python3.11/dist-packages (from python-dateutil>=2.8.2->pandas<3,>=1.4.0->streamlit) (1.17.0)\n"
          ]
        }
      ]
    },
    {
      "cell_type": "code",
      "source": [],
      "metadata": {
        "id": "MksfnlCxlpNV"
      },
      "execution_count": null,
      "outputs": []
    }
  ]
}